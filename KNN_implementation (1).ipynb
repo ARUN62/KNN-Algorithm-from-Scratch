{
  "nbformat": 4,
  "nbformat_minor": 0,
  "metadata": {
    "colab": {
      "name": "KNN_implementation.ipynb",
      "provenance": []
    },
    "kernelspec": {
      "name": "python3",
      "display_name": "Python 3"
    }
  },
  "cells": [
    {
      "cell_type": "code",
      "metadata": {
        "id": "zwIPDSevS3Cr"
      },
      "source": [
        "import numpy as np\n",
        "import operator \n",
        "from operator import itemgetter"
      ],
      "execution_count": null,
      "outputs": []
    },
    {
      "cell_type": "code",
      "metadata": {
        "id": "CJmjSa_4S8cE"
      },
      "source": [
        "def euc_dist(x1, x2):\n",
        "    return np.sqrt(np.sum((x1-x2)**2))"
      ],
      "execution_count": null,
      "outputs": []
    },
    {
      "cell_type": "code",
      "metadata": {
        "id": "JjJTlkPpTH2O"
      },
      "source": [
        "class KNN:\n",
        "    def __init__(self, K=3):\n",
        "        self.K = K\n",
        "    def fit(self, x_train, y_train):\n",
        "        self.X_train = x_train\n",
        "        self.Y_train = y_train\n",
        "    def predict(self, X_test):\n",
        "        predictions = [] \n",
        "        for i in range(len(X_test)):\n",
        "              dist = np.array([euc_dist(X_test[i], x_t) for x_t in   \n",
        "              self.X_train])\n",
        "              dist_sorted = dist.argsort()[:self.K]\n",
        "              neigh_count = {}\n",
        "              for idx in dist_sorted:\n",
        "                  if self.Y_train[idx] in neigh_count:\n",
        "                      neigh_count[self.Y_train[idx]] += 1\n",
        "                  else:\n",
        "                      neigh_count[self.Y_train[idx]] = 1\n",
        "              sorted_neigh_count = sorted(neigh_count.items(),    \n",
        "              key=operator.itemgetter(1), reverse=True)\n",
        "              predictions.append(sorted_neigh_count[0][0]) \n",
        "        return predictions"
      ],
      "execution_count": null,
      "outputs": []
    },
    {
      "cell_type": "code",
      "metadata": {
        "id": "WeB8DuolTYbY"
      },
      "source": [
        "from sklearn.datasets import load_digits\n",
        "mnist = load_digits()\n",
        "print(mnist.data.shape)\n"
      ],
      "execution_count": null,
      "outputs": []
    },
    {
      "cell_type": "code",
      "metadata": {
        "id": "5Y6s3pkmbWh8"
      },
      "source": [
        "X = mnist.data \n",
        "y = mnist.target"
      ],
      "execution_count": null,
      "outputs": []
    },
    {
      "cell_type": "code",
      "metadata": {
        "colab": {
          "base_uri": "https://localhost:8080/"
        },
        "id": "Ec56sXMxTmI6",
        "outputId": "d834a7b6-389d-48a2-b8f7-93e1fb1ea2bf"
      },
      "source": [
        "\n",
        "X_train, X_test, y_train, y_test = train_test_split(X, y, test_size=0.2, random_state=123)\n",
        "print(X_train.shape, y_train.shape)\n",
        "print(X_test.shape, y_test.shape)\n"
      ],
      "execution_count": null,
      "outputs": [
        {
          "output_type": "stream",
          "text": [
            "(1437, 64) (1437,)\n",
            "(360, 64) (360,)\n"
          ],
          "name": "stdout"
        }
      ]
    },
    {
      "cell_type": "code",
      "metadata": {
        "colab": {
          "base_uri": "https://localhost:8080/"
        },
        "id": "BzLCAvaHbaJ5",
        "outputId": "5d8dbf66-9bad-45cc-af72-7267ee10e4e2"
      },
      "source": [
        "print(np.unique(y_train,return_counts=True))\n",
        "print(np.unique(y_test,return_counts=True))"
      ],
      "execution_count": null,
      "outputs": [
        {
          "output_type": "stream",
          "text": [
            "(array([0, 1, 2, 3, 4, 5, 6, 7, 8, 9]), array([139, 148, 141, 150, 139, 145, 138, 148, 137, 152]))\n",
            "(array([0, 1, 2, 3, 4, 5, 6, 7, 8, 9]), array([39, 34, 36, 33, 42, 37, 43, 31, 37, 28]))\n"
          ],
          "name": "stdout"
        }
      ]
    },
    {
      "cell_type": "code",
      "metadata": {
        "id": "1P5blwxybhh-"
      },
      "source": [
        "from sklearn.metrics import precision_recall_fscore_support\n",
        "from sklearn.metrics import accuracy_score"
      ],
      "execution_count": null,
      "outputs": []
    },
    {
      "cell_type": "code",
      "metadata": {
        "id": "NATNX-e7izGI"
      },
      "source": [
        "def fit(self,X,y):\n",
        "  self.X_train=X\n",
        "  self.y_train=y"
      ],
      "execution_count": null,
      "outputs": []
    },
    {
      "cell_type": "code",
      "metadata": {
        "colab": {
          "base_uri": "https://localhost:8080/"
        },
        "id": "AA_JoWaPbozn",
        "outputId": "271adf68-3e4c-41d3-9be3-c7e9bdeef271"
      },
      "source": [
        "kVals = np.arange(3,100,2)\n",
        "accuracies = []\n",
        "for k in kVals:\n",
        "  model = KNN(K = k)\n",
        "  model.fit(X_train, y_train)\n",
        "  pred = model.predict(X_test)\n",
        "  acc = accuracy_score(y_test, pred)\n",
        "  accuracies.append(acc)\n",
        "  print(\"K = \"+str(k)+\"; Accuracy: \"+str(acc))"
      ],
      "execution_count": null,
      "outputs": [
        {
          "output_type": "stream",
          "text": [
            "K = 3; Accuracy: 0.9861111111111112\n",
            "K = 5; Accuracy: 0.9805555555555555\n",
            "K = 7; Accuracy: 0.9861111111111112\n",
            "K = 9; Accuracy: 0.9861111111111112\n",
            "K = 11; Accuracy: 0.9861111111111112\n",
            "K = 13; Accuracy: 0.9833333333333333\n",
            "K = 15; Accuracy: 0.9777777777777777\n",
            "K = 17; Accuracy: 0.9777777777777777\n",
            "K = 19; Accuracy: 0.9777777777777777\n",
            "K = 21; Accuracy: 0.975\n",
            "K = 23; Accuracy: 0.9777777777777777\n",
            "K = 25; Accuracy: 0.975\n",
            "K = 27; Accuracy: 0.975\n",
            "K = 29; Accuracy: 0.9694444444444444\n",
            "K = 31; Accuracy: 0.9694444444444444\n",
            "K = 33; Accuracy: 0.9694444444444444\n",
            "K = 35; Accuracy: 0.9666666666666667\n",
            "K = 37; Accuracy: 0.9666666666666667\n",
            "K = 39; Accuracy: 0.9611111111111111\n",
            "K = 41; Accuracy: 0.9583333333333334\n",
            "K = 43; Accuracy: 0.9583333333333334\n",
            "K = 45; Accuracy: 0.9583333333333334\n",
            "K = 47; Accuracy: 0.95\n",
            "K = 49; Accuracy: 0.9527777777777777\n",
            "K = 51; Accuracy: 0.9527777777777777\n",
            "K = 53; Accuracy: 0.95\n",
            "K = 55; Accuracy: 0.95\n",
            "K = 57; Accuracy: 0.95\n",
            "K = 59; Accuracy: 0.9416666666666667\n",
            "K = 61; Accuracy: 0.9444444444444444\n",
            "K = 63; Accuracy: 0.9444444444444444\n",
            "K = 65; Accuracy: 0.9444444444444444\n",
            "K = 67; Accuracy: 0.9472222222222222\n",
            "K = 69; Accuracy: 0.9388888888888889\n",
            "K = 71; Accuracy: 0.9388888888888889\n",
            "K = 73; Accuracy: 0.9388888888888889\n",
            "K = 75; Accuracy: 0.9361111111111111\n",
            "K = 77; Accuracy: 0.9333333333333333\n",
            "K = 79; Accuracy: 0.9333333333333333\n",
            "K = 81; Accuracy: 0.9333333333333333\n",
            "K = 83; Accuracy: 0.9333333333333333\n",
            "K = 85; Accuracy: 0.9333333333333333\n",
            "K = 87; Accuracy: 0.9333333333333333\n",
            "K = 89; Accuracy: 0.9277777777777778\n",
            "K = 91; Accuracy: 0.9277777777777778\n",
            "K = 93; Accuracy: 0.925\n",
            "K = 95; Accuracy: 0.9277777777777778\n",
            "K = 97; Accuracy: 0.925\n",
            "K = 99; Accuracy: 0.925\n"
          ],
          "name": "stdout"
        }
      ]
    },
    {
      "cell_type": "code",
      "metadata": {
        "colab": {
          "base_uri": "https://localhost:8080/"
        },
        "id": "UschPjlemfRr",
        "outputId": "b5afc51a-c66d-47cb-a80d-66325de87fb3"
      },
      "source": [
        "max_index = accuracies.index(max(accuracies))\n",
        "print(max_index)"
      ],
      "execution_count": null,
      "outputs": [
        {
          "output_type": "stream",
          "text": [
            "0\n"
          ],
          "name": "stdout"
        }
      ]
    },
    {
      "cell_type": "code",
      "metadata": {
        "colab": {
          "base_uri": "https://localhost:8080/",
          "height": 296
        },
        "id": "B0HgOL1xm-UG",
        "outputId": "befb0189-f433-4d22-c94b-e1f2174cb8c8"
      },
      "source": [
        "from matplotlib import pyplot as plt \n",
        "plt.plot(kVals, accuracies) \n",
        "plt.xlabel(\"K Value\") \n",
        "plt.ylabel(\"Accuracy\")"
      ],
      "execution_count": null,
      "outputs": [
        {
          "output_type": "execute_result",
          "data": {
            "text/plain": [
              "Text(0, 0.5, 'Accuracy')"
            ]
          },
          "metadata": {
            "tags": []
          },
          "execution_count": 38
        },
        {
          "output_type": "display_data",
          "data": {
            "image/png": "[encoded data removed]",
            "text/plain": [
              "<Figure size 432x288 with 1 Axes>"
            ]
          },
          "metadata": {
            "tags": [],
            "needs_background": "light"
          }
        }
      ]
    },
    {
      "cell_type": "code",
      "metadata": {
        "id": "k6ZbjwWmnE0y"
      },
      "source": [
        ""
      ],
      "execution_count": null,
      "outputs": []
    }
  ]
}